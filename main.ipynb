{
 "cells": [
  {
   "cell_type": "code",
   "execution_count": 1,
   "metadata": {},
   "outputs": [
    {
     "name": "stderr",
     "output_type": "stream",
     "text": [
      "/user/ma4177/deep_matching/stable_marriage.py:25: SyntaxWarning: \"is\" with 'int' literal. Did you mean \"==\"?\n",
      "  elif sum(0 if recent_proposals[p] == PrefLists[p][-1] else 1 for p in set(PrefLists).difference(set(mu))) is 0:\n",
      "/user/ma4177/deep_matching/stable_marriage.py:620: SyntaxWarning: \"is\" with 'int' literal. Did you mean \"==\"?\n",
      "  if number_of_matchings is 1:\n"
     ]
    }
   ],
   "source": [
    "from stable_marriage import MarriageModel\n",
    "import numpy as np\n",
    "import random\n"
   ]
  },
  {
   "cell_type": "code",
   "execution_count": 2,
   "metadata": {},
   "outputs": [],
   "source": [
    "guyprefers = {\n",
    "    'abe':  ['abi', 'eve', 'cath', 'ivy', 'jan', 'dee', 'fay', 'bea', 'hope', 'gay'],\n",
    "    'bob':  ['cath', 'hope', 'abi', 'dee', 'eve', 'fay', 'bea', 'jan', 'ivy', 'gay'],\n",
    "    'col':  ['hope', 'eve', 'abi', 'dee', 'bea', 'fay', 'ivy', 'gay', 'cath', 'jan'],\n",
    "    'dan':  ['ivy', 'fay', 'dee', 'gay', 'hope', 'eve', 'jan', 'bea', 'cath', 'abi'],\n",
    "    'ed':   ['jan', 'dee', 'bea', 'cath', 'fay', 'eve', 'abi', 'ivy', 'hope', 'gay'],\n",
    "    'fred': ['bea', 'abi', 'dee', 'gay', 'eve', 'ivy', 'cath', 'jan', 'hope', 'fay'],\n",
    "    'gav':  ['gay', 'eve', 'ivy', 'bea', 'cath', 'abi', 'dee', 'hope', 'jan', 'fay'],\n",
    "    'hal':  ['abi', 'eve', 'hope', 'fay', 'ivy', 'cath', 'jan', 'bea', 'gay', 'dee'],\n",
    "    'ian':  ['hope', 'cath', 'dee', 'gay', 'bea', 'abi', 'fay', 'ivy', 'jan', 'eve'],\n",
    "    'jon':  ['abi', 'fay', 'jan', 'gay', 'eve', 'bea', 'dee', 'cath', 'ivy', 'hope']\n",
    "}\n",
    "\n",
    "galprefers = {\n",
    "    'abi':  ['bob', 'fred', 'jon', 'gav', 'ian', 'abe', 'dan', 'ed', 'col', 'hal'],\n",
    "    'bea':  ['bob', 'abe', 'col', 'fred', 'gav', 'dan', 'ian', 'ed', 'jon', 'hal'],\n",
    "    'cath': ['fred', 'bob', 'ed', 'gav', 'hal', 'col', 'ian', 'abe', 'dan', 'jon'],\n",
    "    'dee':  ['fred', 'jon', 'col', 'abe', 'ian', 'hal', 'gav', 'dan', 'bob', 'ed'],\n",
    "    'eve':  ['jon', 'hal', 'fred', 'dan', 'abe', 'gav', 'col', 'ed', 'ian', 'bob'],\n",
    "    'fay':  ['bob', 'abe', 'ed', 'ian', 'jon', 'dan', 'fred', 'gav', 'col', 'hal'],\n",
    "    'gay':  ['jon', 'gav', 'hal', 'fred', 'bob', 'abe', 'col', 'ed', 'dan', 'ian'],\n",
    "    'hope': ['gav', 'jon', 'bob', 'abe', 'ian', 'dan', 'hal', 'ed', 'col', 'fred'],\n",
    "    'ivy':  ['ian', 'col', 'hal', 'gav', 'fred', 'bob', 'abe', 'ed', 'jon', 'dan'],\n",
    "    'jan':  ['ed', 'hal', 'gav', 'abe', 'bob', 'jon', 'col', 'ian', 'fred', 'dan']\n",
    "}"
   ]
  },
  {
   "cell_type": "code",
   "execution_count": 6,
   "metadata": {},
   "outputs": [],
   "source": [
    "guys = list(np.arange(10))\n",
    "gals = list(np.arange(10)) \n",
    "\n",
    "guyprefers = {g: random.sample(gals, len(gals)) for g in guys}\n",
    "galprefers = {g: random.sample(guys, len(guys)) for g in gals}"
   ]
  },
  {
   "cell_type": "code",
   "execution_count": 7,
   "metadata": {},
   "outputs": [
    {
     "name": "stdout",
     "output_type": "stream",
     "text": [
      "{0: [0, 6, 3, 8, 4, 9, 5, 7, 1, 2], 1: [5, 6, 0, 9, 7, 1, 3, 4, 8, 2], 2: [0, 1, 3, 6, 2, 9, 8, 5, 7, 4], 3: [4, 6, 7, 3, 2, 9, 1, 5, 8, 0], 4: [4, 1, 5, 7, 6, 9, 3, 2, 0, 8], 5: [3, 4, 6, 7, 1, 5, 0, 8, 2, 9], 6: [3, 7, 0, 2, 5, 1, 8, 9, 4, 6], 7: [8, 5, 1, 6, 0, 9, 4, 2, 3, 7], 8: [2, 4, 7, 9, 6, 0, 1, 5, 8, 3], 9: [9, 4, 2, 8, 3, 0, 1, 5, 7, 6]}\n",
      "{0: [3, 2, 4, 9, 5, 6, 8, 7, 1, 0], 1: [5, 8, 3, 4, 2, 7, 0, 9, 6, 1], 2: [2, 8, 3, 9, 6, 4, 1, 5, 0, 7], 3: [0, 9, 5, 2, 4, 6, 7, 8, 3, 1], 4: [2, 3, 7, 9, 1, 5, 8, 4, 6, 0], 5: [6, 3, 4, 1, 9, 8, 0, 2, 7, 5], 6: [1, 9, 4, 7, 3, 5, 6, 0, 2, 8], 7: [4, 3, 5, 2, 8, 7, 1, 9, 0, 6], 8: [0, 9, 6, 4, 3, 2, 1, 8, 5, 7], 9: [5, 6, 3, 7, 9, 2, 8, 0, 4, 1]}\n"
     ]
    }
   ],
   "source": [
    "print(guyprefers)\n",
    "print(galprefers)\n"
   ]
  },
  {
   "cell_type": "code",
   "execution_count": 9,
   "metadata": {},
   "outputs": [
    {
     "name": "stdout",
     "output_type": "stream",
     "text": [
      "Tentative matching after Round 1:\n",
      "{2: 0, 1: 5, 3: 4, 5: 3, 7: 8, 8: 2, 9: 9}\n",
      "All proposals: {0: [0], 1: [5], 2: [0], 3: [4], 4: [4], 5: [3], 6: [3], 7: [8], 8: [2], 9: [9]}\n",
      "\n"
     ]
    },
    {
     "data": {
      "text/plain": [
       "{0: 6, 4: 1, 6: 7, 2: 0, 1: 5, 3: 4, 5: 3, 7: 8, 8: 2, 9: 9}"
      ]
     },
     "execution_count": 9,
     "metadata": {},
     "output_type": "execute_result"
    }
   ],
   "source": [
    "model = MarriageModel(guyprefers, galprefers)\n",
    "mu = model.Deferred_Acceptance(print_tentative_matchings=True)\n",
    "mu"
   ]
  },
  {
   "cell_type": "code",
   "execution_count": null,
   "metadata": {},
   "outputs": [],
   "source": []
  }
 ],
 "metadata": {
  "kernelspec": {
   "display_name": "deep_matching",
   "language": "python",
   "name": "python3"
  },
  "language_info": {
   "codemirror_mode": {
    "name": "ipython",
    "version": 3
   },
   "file_extension": ".py",
   "mimetype": "text/x-python",
   "name": "python",
   "nbconvert_exporter": "python",
   "pygments_lexer": "ipython3",
   "version": "3.12.2"
  }
 },
 "nbformat": 4,
 "nbformat_minor": 2
}
